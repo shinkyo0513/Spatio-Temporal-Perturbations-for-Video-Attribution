{
 "metadata": {
  "language_info": {
   "codemirror_mode": {
    "name": "ipython",
    "version": 3
   },
   "file_extension": ".py",
   "mimetype": "text/x-python",
   "name": "python",
   "nbconvert_exporter": "python",
   "pygments_lexer": "ipython3",
   "version": "3.6.5-final"
  },
  "orig_nbformat": 2,
  "kernelspec": {
   "name": "python36564bitpytorch11conda38ae44d10a584fdcb4ba3a2ecd1a1a5a",
   "display_name": "Python 3.6.5 64-bit ('pytorch1.1': conda)"
  }
 },
 "nbformat": 4,
 "nbformat_minor": 2,
 "cells": [
  {
   "cell_type": "code",
   "execution_count": 13,
   "metadata": {
    "tags": []
   },
   "outputs": [
    {
     "output_type": "stream",
     "name": "stdout",
     "text": "108\n"
    }
   ],
   "source": [
    "import os\n",
    "\n",
    "import matplotlib\n",
    "matplotlib.use(\"Agg\")\n",
    "import matplotlib.pyplot as plt\n",
    "from matplotlib import animation\n",
    "from IPython.display import display, HTML\n",
    "import numpy as np\n",
    "\n",
    "from PIL import Image\n",
    "\n",
    "def plot_sequence_images(image_array, save_name):\n",
    "    ''' Display images sequence as an animation in jupyter notebook\n",
    "    \n",
    "    Args:\n",
    "        image_array(numpy.ndarray): image_array.shape equal to (num_images, height, width, num_channels)\n",
    "    '''\n",
    "    dpi = 72.0\n",
    "    xpixels, ypixels = image_array[0].shape[:2]\n",
    "    fig = plt.figure(figsize=(ypixels/dpi, xpixels/dpi), dpi=dpi)\n",
    "    im = plt.figimage(image_array[0])\n",
    "\n",
    "    def animate(i):\n",
    "        im.set_array(image_array[i])\n",
    "        return (im,)\n",
    "\n",
    "    print(len(image_array))\n",
    "    anim = animation.FuncAnimation(fig, animate, frames=len(image_array), interval=33)#, repeat_delay=2000, repeat=True)\n",
    "    # display(HTML(anim.to_html5_video()))\n",
    "    anim.save(f\"./{save_name}.gif\", writer=\"imagemagick\")\n",
    "\n",
    "\n",
    "# os.system('pwd')\n",
    "epic_root = '/home/lzq/dataset/epic/seg_train/P01/P01_17/'\n",
    "video_names = os.listdir(epic_root)\n",
    "for video_name in video_names[:10]:\n",
    "    frame_names = os.listdir(os.path.join(epic_root, video_name))\n",
    "    frame_names = sorted(frame_names)\n",
    "\n",
    "    frames = [np.asarray(Image.open(os.path.join(epic_root, video_name, fn))) for fn in frame_names]\n",
    "    # print(len(frames))\n",
    "    # frames = frames\n",
    "    plot_sequence_images(frames, video_name)"
   ]
  },
  {
   "cell_type": "code",
   "execution_count": 10,
   "metadata": {},
   "outputs": [],
   "source": []
  },
  {
   "cell_type": "markdown",
   "metadata": {},
   "source": []
  }
 ]
}